{
 "cells": [
  {
   "cell_type": "markdown",
   "metadata": {},
   "source": [
    "## Install system dependencies\n",
    "\n",
    "Install Docker for [Windows](https://store.docker.com/editions/community/docker-ce-desktop-windows),\n",
    "[Mac](https://store.docker.com/editions/community/docker-ce-desktop-mac) or [Linux](https://docs.docker.com/install/)\n",
    "\n",
    "Create the travis-ci-operator local configuration directory and give permissions to travis-ci-operator user id which is used in the docker container\n",
    "\n",
    "```\n",
    "sudo mkdir -p /etc/travis-ci-operator && sudo chown 1023:1023 /etc/travis-ci-operator\n",
    "```\n",
    "\n",
    "Install and authenticate with [Travis CLI](https://github.com/travis-ci/travis.rb#installation)\n",
    "\n",
    "## (optional) Install Conda environment to run the Jupyter notebooks\n",
    "\n",
    "This allows to run the notebook interactively, you can skip this step and continue with `Install travis-ci-operator` section, copy-pasting the relevant code and running in a terminal\n",
    "\n",
    "Create the Conda environment\n",
    "\n",
    "```\n",
    "conda env create -f environment.yaml\n",
    "```\n",
    "\n",
    "Activate the environment, install dependencies and start jupyter lab\n",
    "\n",
    "```\n",
    ". activate travis-ci-operator\n",
    "pip install bash_kernel\n",
    "python -m bash_kernel.install\n",
    "jupyter lab\n",
    "```\n",
    "\n",
    "Download the [quickstart notebook](https://raw.githubusercontent.com/OriHoch/travis-ci-operator/master/QUICKSTART.ipynb) and open in Jupyter Lab\n",
    "\n",
    "## Initialize a repo for travis-ci-operator\n",
    "\n",
    "Verify you get a token from `travis token` command (keep it private!)"
   ]
  },
  {
   "cell_type": "code",
   "execution_count": 1,
   "metadata": {},
   "outputs": [
    {
     "name": "stdout",
     "output_type": "stream",
     "text": [
      "***********************\n",
      "OK\n"
     ]
    }
   ],
   "source": [
    "if travis token | python -c \"import sys; print(''.join(['*' for i in range(len(sys.stdin.read()))]))\"\n",
    "then echo OK\n",
    "else echo failed to get travis token; fi"
   ]
  },
  {
   "cell_type": "code",
   "execution_count": 2,
   "metadata": {},
   "outputs": [
    {
     "name": "stdout",
     "output_type": "stream",
     "text": [
      "This step needs to run interactively outside of the Jupyter noteboo\n",
      "\n",
      "run the following in a new terminal to initialize hasadna/migdar-search-ui:\n",
      "\n",
      "docker run -v /etc/travis-ci-operator:/etc/travis-ci-operator -it uumpa/travis-ci-operator init `travis token` hasadna/migdar-search-ui master\n"
     ]
    }
   ],
   "source": [
    "# change these values according to the repo you want to activate travis-ci-operator for\n",
    "export GITHUB_USER=\"hasadna\"\n",
    "export GITHUB_REPO=\"migdar-search-ui\"\n",
    "export BRANCH_NAME=\"master\"\n",
    "\n",
    "echo This step needs to run interactively outside of the Jupyter noteboo\n",
    "echo\n",
    "echo run the following in a new terminal to initialize ${GITHUB_USER}/${GITHUB_REPO}:\n",
    "echo\n",
    "echo docker run -v /etc/travis-ci-operator:/etc/travis-ci-operator \\\n",
    "                -it uumpa/travis-ci-operator init \\`travis token\\` ${GITHUB_USER}/${GITHUB_REPO} ${BRANCH_NAME}"
   ]
  },
  {
   "cell_type": "markdown",
   "metadata": {},
   "source": [
    "The deploy keys are stored here:"
   ]
  },
  {
   "cell_type": "code",
   "execution_count": 3,
   "metadata": {},
   "outputs": [
    {
     "name": "stdout",
     "output_type": "stream",
     "text": [
      "total 16K\n",
      "drwxr-xr-x 2 1023 1023 4.0K Oct 19 14:35 \u001b[0m\u001b[01;34m.\u001b[0m\n",
      "drwxr-xr-x 4 1023 1023 4.0K Oct 19 14:35 \u001b[01;34m..\u001b[0m\n",
      "-rw------- 1 1023 1023 3.2K Oct 19 14:35 id_rsa\n",
      "-rw-r--r-- 1 1023 1023  744 Oct 19 14:35 id_rsa.pub\n"
     ]
    }
   ],
   "source": [
    "ls -lah /etc/travis-ci-operator/${GITHUB_USER}/${GITHUB_REPO}"
   ]
  },
  {
   "cell_type": "markdown",
   "metadata": {},
   "source": [
    "## Initialize Docker\n",
    "\n",
    "This allows to run docker pull / push from travis\n",
    "\n",
    "1. Create a Docker user to be used for this purpose only: https://hub.docker.com/\n",
    "2. The Docker repo should be under an organization: https://hub.docker.com/organizations/\n",
    "3. Create a team for this project and add the Docker user you created to this team\n",
    "4. Create a Docker repo for this project and assign this team to it with write access\n",
    "5. Store the Docker user credentials for travis-ci-operator\n"
   ]
  },
  {
   "cell_type": "code",
   "execution_count": null,
   "metadata": {},
   "outputs": [],
   "source": [
    "# set the credentials of the dedicated user\n",
    "DOCKER_USER=\"\"\n",
    "DOCKER_PASSWORD=\"\"\n",
    "\n",
    "docker run -v /etc/travis-ci-operator:/etc/travis-ci-operator -it uumpa/travis-ci-operator \\\n",
    "    init-docker `travis token` ${GITHUB_USER}/${GITHUB_REPO} ${BRANCH_NAME} ${DOCKER_USER} ${DOCKER_PASSWORD}"
   ]
  },
  {
   "cell_type": "markdown",
   "metadata": {},
   "source": [
    "## Allow to push to another repo\n",
    "\n",
    "e.g. to update downstream"
   ]
  },
  {
   "cell_type": "code",
   "execution_count": 4,
   "metadata": {},
   "outputs": [
    {
     "name": "stdout",
     "output_type": "stream",
     "text": [
      "This step needs to run interactively outside of the Jupyter noteboo\n",
      "\n",
      "run the following in a new terminal to add deploy key migdar-k8s:\n",
      "\n",
      "docker run -v /etc/travis-ci-operator:/etc/travis-ci-operator -it uumpa/travis-ci-operator add-deploy-key `travis token` hasadna/migdar-search-ui master migdar-k8s\n"
     ]
    }
   ],
   "source": [
    "# set a short name for the deploy key\n",
    "export DEPLOY_KEY_NAME=migdar-k8s\n",
    "\n",
    "echo This step needs to run interactively outside of the Jupyter noteboo\n",
    "echo\n",
    "echo run the following in a new terminal to add deploy key ${DEPLOY_KEY_NAME}:\n",
    "echo\n",
    "echo docker run -v /etc/travis-ci-operator:/etc/travis-ci-operator \\\n",
    "                -it uumpa/travis-ci-operator add-deploy-key \\`travis token\\` \\\n",
    "                ${GITHUB_USER}/${GITHUB_REPO} ${BRANCH_NAME} ${DEPLOY_KEY_NAME}"
   ]
  },
  {
   "cell_type": "markdown",
   "metadata": {},
   "source": [
    "## Generate .travis.yml file\n",
    "\n",
    "Outputs an basic .travis.yml file which you can modify and extend"
   ]
  },
  {
   "cell_type": "markdown",
   "metadata": {},
   "source": [
    "#### Modify travis.yml for common use-cases\n",
    "\n",
    "Add a `.travis.sh` script to the repo:"
   ]
  },
  {
   "cell_type": "code",
   "execution_count": 5,
   "metadata": {},
   "outputs": [
    {
     "name": "stdout",
     "output_type": "stream",
     "text": [
      "\n",
      "Create the following files in the root of the hasadna/migdar-search-ui repo, master branch:\n",
      "\n",
      "\n",
      "Cloning git repo git@github.com:hasadna/migdar-search-ui.git\n",
      "Cloning into '/tmp/tmp.ilKoHO'...\n",
      "Warning: Permanently added the RSA host key for IP address '192.30.253.112' to the list of known hosts.\n",
      "remote: Enumerating objects: 21, done.\u001b[K\n",
      "remote: Counting objects: 100% (21/21), done.\u001b[K\n",
      "remote: Compressing objects: 100% (17/17), done.\u001b[K\n",
      "remote: Total 45 (delta 10), reused 15 (delta 4), pack-reused 24\u001b[K\n",
      "Receiving objects: 100% (45/45), 127.16 KiB | 307.00 KiB/s, done.\n",
      "Resolving deltas: 100% (14/14), done.\n",
      "/tmp/tmp.ilKoHO ~\n",
      "Traceback (most recent call last):\n",
      "  File \"/home/travis-ci-operator/read_yaml.py\", line 18, in <module>\n",
      "    print(json.dumps(get_from_dict(values, sys.argv[2:]), separators=(',', ':')))\n",
      "  File \"/home/travis-ci-operator/read_yaml.py\", line 15, in get_from_dict\n",
      "    return values[keys[0]]\n",
      "KeyError: 'selfDeployKeyDecryptCmd'\n",
      "travis.yml:\n",
      "---\n",
      "language: bash\n",
      "sudo: required\n",
      "env:\n",
      "  global:\n",
      "  - TRAVIS_CI_OPERATOR=1\n",
      "  - secure: \"Soe7CfrBMzbQIIrJi3yFPXWtMtk+gBpdrZrUsNpdNOfqzyiNX72CqNKxHk/BgFKjI3VSpCG1hOjH7ahzq3pUsBE/JoK2sQ0ndO5v4ookFH07V3M1V0jXDWywGpZ/+tmkuHNwljliIJvGO07fOQxgztDxuIfQiJgIN51lW9Hpdq00ADcJC5ouqZRldI1crxu/+CeIaelxk+SvhyuSGuMlG2Chze/Djtys/iPxgdsf2S62j6RNLz78dzTwtACEF7iON8w0pcYlT/hVnIxY29VF6uI92ezPQ+tkrnl6KgqWh7rxtnlUt0lIscTxIGKTgWEQ/QtSa4nNbc02z96qG6c5aWMGo0QGJs8lqz5cH4TGsc/K+tZUz4xvwgVWuY/BzDLHxQBCY4B1PWWHQ1abvBVUX2MdCk3zBa0lbCop/D4iMQZhTLCyyBqFylT6jHRzscxLauYbRfPDqiAWUJJwBYzl5gjteGkdBMpxh/Sd/t6pqWC+1nxw+y8s3E+uldMfVtI1FiopvcpP6qamZMhPys0BauhFX7p+Q7uFq1vHBm4Zhtyd+6ItOY6z6KnuyaewsQEI/tmBegx3yjQCYhYdZ9v2oayT9Wq7P58yfOs2nTDzCutaCgIPhtUmqh7MD1KcUTd/fsAaH5XPXKE3s+1TLvrMS3Rd86TpVJXXShYSj4OXej0=\"\n",
      "  - secure: \"fZ9wTzMk7bI5iRVJkfksLBuKQ7ISdDoNOqSM+6EJxKwmHkDGOAQG/Z+nu8ZtUpJmG/7VVNoEdBkLiWbA0jgPTAqBs+gDLJzT99khAhCHPHHKcQI7fq10ThdL6Z2VwzHbdoHKvmShBDaDBfDWnFBJDely9zNlMQ+u5bD1itnE/Z/Kd+iXcuVeY0xS8pTagCvBqcUdEO2FwOQQ1jCwVcc5bEoKuc7dlkbaZTaFBmuKIoaQpv9iZcXBroHbfHNqQKfzQ6X1nNbz3D0lA6tULVzAjqaiApI/X7E6Vgc7HCV6AaaZTREdTvfuk6bbF+oGan8SCWPY7ITJjtP9ZmPD59ErjixXUD5pZT5qrRje1waz8+KvKIt5ahdQamz1yXNlQ6WknW1Q2FYnigh5h8g/88PKhjZp1fF7yuc/maqhTCzUfey+06ojVxJxMr4pGHGK3IuIZKwpVk97TPqyDmrdEBnd4mU82YBuDwPbAcWceCnYFRfI1Rf/xsc+r4B/4MaYkeUvkOmEYtABMbXa5Jv3CNH73r7Brt/I8lhnm1bh9cOIuaBTGA9A2kr8BTJ9rF9/qHAZt9JfDSCRXT8YwUQv/Zj2lPXyIJVE7Vs4N9F1tYzMwGm/HJKekiBpl6fN6d/1d8A/qtyr1TnUDhnHf3SvVATsEz+SO/bU/c6TeAa2EvJv0r4=\"\n",
      "services:\n",
      "- docker\n",
      "install:\n",
      "- curl -L https://raw.githubusercontent.com/OriHoch/travis-ci-operator/master/travis_ci_operator.sh > $HOME/bin/travis_ci_operator.sh\n",
      "- bash $HOME/bin/travis_ci_operator.sh init\n",
      "- travis_ci_operator.sh docker-login\n",
      "---\n",
      "Create the above .travis.yml and append the following lines:\n",
      "\n",
      "script:\n",
      "- chmod +x .travis.sh && ./.travis.sh script\n",
      "deploy:\n",
      "  provider: script\n",
      "  script: chmod +x .travis.sh && ./.travis.sh deploy\n",
      "  on:\n",
      "    tags: false\n",
      "    condition: \"$TRAVIS_BRANCH = master\n",
      "\n",
      "\n",
      "\n",
      "-- .travis.sh:\n",
      "\n",
      "\n",
      "#!/usr/bin/env bash\n",
      "\n",
      "DOCKER_IMAGE=uumpa/hasadna-migdar-internal-search-ui\n",
      "\n",
      "[ -e .travis.banner ] && cat .travis.banner\n",
      "\n",
      "if [ \"${1}\" == \"script\" ]; then\n",
      "    docker build -t ${DOCKER_IMAGE}:latest -t ${DOCKER_IMAGE}:${TRAVIS_COMMIT} && exit 0\n",
      "elif [ \"${1}\" == \"deploy\" ]; then\n",
      "    docker push ${DOCKER_IMAGE}:latest && docker push ${DOCKER_IMAGE}:${TRAVIS_COMMIT} && exit 0\n",
      "fi; exit 1\n",
      "\n"
     ]
    }
   ],
   "source": [
    "DOCKER_IMAGE=\"uumpa/hasadna-migdar-internal-search-ui\"\n",
    "DEPLOY_BRANCH=\"master\"\n",
    "\n",
    "echo\n",
    "echo Create the following files in the root of the ${GITHUB_USER}/${GITHUB_REPO} repo, ${BRANCH_NAME} branch:\n",
    "echo\n",
    "echo\n",
    "docker run -v /etc/travis-ci-operator:/etc/travis-ci-operator -it uumpa/travis-ci-operator \\\n",
    "    get-travis-yml ${GITHUB_USER}/${GITHUB_REPO} ${BRANCH_NAME}\n",
    "\n",
    "echo Create the above .travis.yml and append the following lines:\n",
    "echo '\n",
    "script:\n",
    "- chmod +x .travis.sh && ./.travis.sh script\n",
    "deploy:\n",
    "  provider: script\n",
    "  script: chmod +x .travis.sh && ./.travis.sh deploy\n",
    "  on:\n",
    "    tags: false\n",
    "    condition: \"$TRAVIS_BRANCH = '${DEPLOY_BRANCH}'\n",
    "'\n",
    "\n",
    "echo\n",
    "echo\n",
    "echo -- .travis.sh:\n",
    "echo\n",
    "echo '\n",
    "#!/usr/bin/env bash\n",
    "\n",
    "DOCKER_IMAGE='${DOCKER_IMAGE}'\n",
    "\n",
    "[ -e .travis.banner ] && cat .travis.banner\n",
    "\n",
    "if [ \"${1}\" == \"script\" ]; then\n",
    "    docker build -t ${DOCKER_IMAGE}:latest -t ${DOCKER_IMAGE}:${TRAVIS_COMMIT} && exit 0\n",
    "elif [ \"${1}\" == \"deploy\" ]; then\n",
    "    docker push ${DOCKER_IMAGE}:latest && docker push ${DOCKER_IMAGE}:${TRAVIS_COMMIT} && exit 0\n",
    "fi; exit 1\n",
    "'"
   ]
  },
  {
   "cell_type": "code",
   "execution_count": null,
   "metadata": {},
   "outputs": [],
   "source": []
  }
 ],
 "metadata": {
  "kernelspec": {
   "display_name": "Bash",
   "language": "bash",
   "name": "bash"
  },
  "language_info": {
   "codemirror_mode": "shell",
   "file_extension": ".sh",
   "mimetype": "text/x-sh",
   "name": "bash"
  }
 },
 "nbformat": 4,
 "nbformat_minor": 2
}
